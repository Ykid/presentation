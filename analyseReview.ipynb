{
 "cells": [
  {
   "cell_type": "code",
   "execution_count": 19,
   "outputs": [
    {
     "data": {
      "text/plain": "    review_id                                          title        author  \\\n0  5016693553                       Missing Crucial Features        Sunny해   \n1  5016515381                     PowerPoint presenter notes  Ryan Padilla   \n2  5016042453                   Still no upload to One Drive       Olney65   \n3  5015876232                       Good app... if it worked     RocGirl72   \n4  5014004568  Issues with Links,  no way to contact Support    Sunshine78   \n\n                                        author_url version  rating  \\\n0  https://itunes.apple.com/us/reviews/id532346922   5.3.7       2   \n1  https://itunes.apple.com/us/reviews/id303681667   5.3.7       1   \n2  https://itunes.apple.com/us/reviews/id461825605   5.3.7       1   \n3  https://itunes.apple.com/us/reviews/id226862466   5.3.7       1   \n4   https://itunes.apple.com/us/reviews/id40520079   5.3.7       1   \n\n                                              review  vote_count  \n0  Missing Features Present in Older Version:\\n- ...           0  \n1  I love this app, but I’m being forced to use k...           0  \n2                  This is a step backwards from GN4           0  \n3  I’m a new user of Good Notes. When I first dow...           0  \n4  My links will work.  But after clicking them a...           0  ",
      "text/html": "<div>\n<style scoped>\n    .dataframe tbody tr th:only-of-type {\n        vertical-align: middle;\n    }\n\n    .dataframe tbody tr th {\n        vertical-align: top;\n    }\n\n    .dataframe thead th {\n        text-align: right;\n    }\n</style>\n<table border=\"1\" class=\"dataframe\">\n  <thead>\n    <tr style=\"text-align: right;\">\n      <th></th>\n      <th>review_id</th>\n      <th>title</th>\n      <th>author</th>\n      <th>author_url</th>\n      <th>version</th>\n      <th>rating</th>\n      <th>review</th>\n      <th>vote_count</th>\n    </tr>\n  </thead>\n  <tbody>\n    <tr>\n      <th>0</th>\n      <td>5016693553</td>\n      <td>Missing Crucial Features</td>\n      <td>Sunny해</td>\n      <td>https://itunes.apple.com/us/reviews/id532346922</td>\n      <td>5.3.7</td>\n      <td>2</td>\n      <td>Missing Features Present in Older Version:\\n- ...</td>\n      <td>0</td>\n    </tr>\n    <tr>\n      <th>1</th>\n      <td>5016515381</td>\n      <td>PowerPoint presenter notes</td>\n      <td>Ryan Padilla</td>\n      <td>https://itunes.apple.com/us/reviews/id303681667</td>\n      <td>5.3.7</td>\n      <td>1</td>\n      <td>I love this app, but I’m being forced to use k...</td>\n      <td>0</td>\n    </tr>\n    <tr>\n      <th>2</th>\n      <td>5016042453</td>\n      <td>Still no upload to One Drive</td>\n      <td>Olney65</td>\n      <td>https://itunes.apple.com/us/reviews/id461825605</td>\n      <td>5.3.7</td>\n      <td>1</td>\n      <td>This is a step backwards from GN4</td>\n      <td>0</td>\n    </tr>\n    <tr>\n      <th>3</th>\n      <td>5015876232</td>\n      <td>Good app... if it worked</td>\n      <td>RocGirl72</td>\n      <td>https://itunes.apple.com/us/reviews/id226862466</td>\n      <td>5.3.7</td>\n      <td>1</td>\n      <td>I’m a new user of Good Notes. When I first dow...</td>\n      <td>0</td>\n    </tr>\n    <tr>\n      <th>4</th>\n      <td>5014004568</td>\n      <td>Issues with Links,  no way to contact Support</td>\n      <td>Sunshine78</td>\n      <td>https://itunes.apple.com/us/reviews/id40520079</td>\n      <td>5.3.7</td>\n      <td>1</td>\n      <td>My links will work.  But after clicking them a...</td>\n      <td>0</td>\n    </tr>\n  </tbody>\n</table>\n</div>"
     },
     "metadata": {},
     "output_type": "execute_result",
     "execution_count": 19
    }
   ],
   "source": [
    "import pandas as pd\n",
    "reviews = pd.read_csv(\"reviews.csv\")\n",
    "\n",
    "reviews.head()"
   ],
   "metadata": {
    "collapsed": false,
    "pycharm": {
     "name": "#%%\n",
     "is_executing": false
    }
   }
  }
 ],
 "metadata": {
  "kernelspec": {
   "display_name": "Python 3",
   "language": "python",
   "name": "python3"
  },
  "language_info": {
   "codemirror_mode": {
    "name": "ipython",
    "version": 2
   },
   "file_extension": ".py",
   "mimetype": "text/x-python",
   "name": "python",
   "nbconvert_exporter": "python",
   "pygments_lexer": "ipython2",
   "version": "2.7.6"
  },
  "pycharm": {
   "stem_cell": {
    "cell_type": "raw",
    "source": [
     "\n"
    ],
    "metadata": {
     "collapsed": false
    }
   }
  }
 },
 "nbformat": 4,
 "nbformat_minor": 0
}