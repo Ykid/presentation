{
 "cells": [
  {
   "cell_type": "code",
   "execution_count": 26,
   "outputs": [
    {
     "data": {
      "text/plain": "      review_id                                  title        author  \\\n0    5017388045                  Where is the back up?       Rxxxxxy   \n1    5016693553               Missing Crucial Features        Sunny해   \n2    5016515381             PowerPoint presenter notes  Ryan Padilla   \n3    5016042453           Still no upload to One Drive       Olney65   \n4    5015876232               Good app... if it worked     RocGirl72   \n..          ...                                    ...           ...   \n495  4682629536  Good but printing issue is a big deal    Snow_Fox20   \n496  4682267152       Some improvements and fix needed   Mr. Bond007   \n497  4681745403          No text box option for iPhone    BillHeller   \n498  4678692959                 Presenter mode is lit!       tonywmd   \n499  4677626765                      Great app, but...      parkerjk   \n\n                                           author_url version  rating  \\\n0     https://itunes.apple.com/us/reviews/id261062508   5.3.7       1   \n1     https://itunes.apple.com/us/reviews/id532346922   5.3.7       2   \n2     https://itunes.apple.com/us/reviews/id303681667   5.3.7       1   \n3     https://itunes.apple.com/us/reviews/id461825605   5.3.7       1   \n4     https://itunes.apple.com/us/reviews/id226862466   5.3.7       1   \n..                                                ...     ...     ...   \n495  https://itunes.apple.com/us/reviews/id1065583053     5.2       3   \n496  https://itunes.apple.com/us/reviews/id1017393236   5.1.7       5   \n497    https://itunes.apple.com/us/reviews/id31909590     5.2       3   \n498   https://itunes.apple.com/us/reviews/id293204111     5.2       5   \n499   https://itunes.apple.com/us/reviews/id282154359     5.2       5   \n\n                                                review  vote_count  \n0    This app might be #2 on productivity list but ...           0  \n1    Missing Features Present in Older Version:\\n- ...           0  \n2    I love this app, but I’m being forced to use k...           0  \n3                    This is a step backwards from GN4           0  \n4    I’m a new user of Good Notes. When I first dow...           0  \n..                                                 ...         ...  \n495  I love this app don’t get me wrong but I can’t...           0  \n496  Great apps. I enjoy being able to organize mat...           0  \n497  GoodNotes 5 has a text box option on the iPad,...           0  \n498  Holy smokes is the new presenter mode a killer...           0  \n499  Love good notes 5, however still waiting on th...           0  \n\n[500 rows x 8 columns]",
      "text/html": "<div>\n<style scoped>\n    .dataframe tbody tr th:only-of-type {\n        vertical-align: middle;\n    }\n\n    .dataframe tbody tr th {\n        vertical-align: top;\n    }\n\n    .dataframe thead th {\n        text-align: right;\n    }\n</style>\n<table border=\"1\" class=\"dataframe\">\n  <thead>\n    <tr style=\"text-align: right;\">\n      <th></th>\n      <th>review_id</th>\n      <th>title</th>\n      <th>author</th>\n      <th>author_url</th>\n      <th>version</th>\n      <th>rating</th>\n      <th>review</th>\n      <th>vote_count</th>\n    </tr>\n  </thead>\n  <tbody>\n    <tr>\n      <th>0</th>\n      <td>5017388045</td>\n      <td>Where is the back up?</td>\n      <td>Rxxxxxy</td>\n      <td>https://itunes.apple.com/us/reviews/id261062508</td>\n      <td>5.3.7</td>\n      <td>1</td>\n      <td>This app might be #2 on productivity list but ...</td>\n      <td>0</td>\n    </tr>\n    <tr>\n      <th>1</th>\n      <td>5016693553</td>\n      <td>Missing Crucial Features</td>\n      <td>Sunny해</td>\n      <td>https://itunes.apple.com/us/reviews/id532346922</td>\n      <td>5.3.7</td>\n      <td>2</td>\n      <td>Missing Features Present in Older Version:\\n- ...</td>\n      <td>0</td>\n    </tr>\n    <tr>\n      <th>2</th>\n      <td>5016515381</td>\n      <td>PowerPoint presenter notes</td>\n      <td>Ryan Padilla</td>\n      <td>https://itunes.apple.com/us/reviews/id303681667</td>\n      <td>5.3.7</td>\n      <td>1</td>\n      <td>I love this app, but I’m being forced to use k...</td>\n      <td>0</td>\n    </tr>\n    <tr>\n      <th>3</th>\n      <td>5016042453</td>\n      <td>Still no upload to One Drive</td>\n      <td>Olney65</td>\n      <td>https://itunes.apple.com/us/reviews/id461825605</td>\n      <td>5.3.7</td>\n      <td>1</td>\n      <td>This is a step backwards from GN4</td>\n      <td>0</td>\n    </tr>\n    <tr>\n      <th>4</th>\n      <td>5015876232</td>\n      <td>Good app... if it worked</td>\n      <td>RocGirl72</td>\n      <td>https://itunes.apple.com/us/reviews/id226862466</td>\n      <td>5.3.7</td>\n      <td>1</td>\n      <td>I’m a new user of Good Notes. When I first dow...</td>\n      <td>0</td>\n    </tr>\n    <tr>\n      <th>...</th>\n      <td>...</td>\n      <td>...</td>\n      <td>...</td>\n      <td>...</td>\n      <td>...</td>\n      <td>...</td>\n      <td>...</td>\n      <td>...</td>\n    </tr>\n    <tr>\n      <th>495</th>\n      <td>4682629536</td>\n      <td>Good but printing issue is a big deal</td>\n      <td>Snow_Fox20</td>\n      <td>https://itunes.apple.com/us/reviews/id1065583053</td>\n      <td>5.2</td>\n      <td>3</td>\n      <td>I love this app don’t get me wrong but I can’t...</td>\n      <td>0</td>\n    </tr>\n    <tr>\n      <th>496</th>\n      <td>4682267152</td>\n      <td>Some improvements and fix needed</td>\n      <td>Mr. Bond007</td>\n      <td>https://itunes.apple.com/us/reviews/id1017393236</td>\n      <td>5.1.7</td>\n      <td>5</td>\n      <td>Great apps. I enjoy being able to organize mat...</td>\n      <td>0</td>\n    </tr>\n    <tr>\n      <th>497</th>\n      <td>4681745403</td>\n      <td>No text box option for iPhone</td>\n      <td>BillHeller</td>\n      <td>https://itunes.apple.com/us/reviews/id31909590</td>\n      <td>5.2</td>\n      <td>3</td>\n      <td>GoodNotes 5 has a text box option on the iPad,...</td>\n      <td>0</td>\n    </tr>\n    <tr>\n      <th>498</th>\n      <td>4678692959</td>\n      <td>Presenter mode is lit!</td>\n      <td>tonywmd</td>\n      <td>https://itunes.apple.com/us/reviews/id293204111</td>\n      <td>5.2</td>\n      <td>5</td>\n      <td>Holy smokes is the new presenter mode a killer...</td>\n      <td>0</td>\n    </tr>\n    <tr>\n      <th>499</th>\n      <td>4677626765</td>\n      <td>Great app, but...</td>\n      <td>parkerjk</td>\n      <td>https://itunes.apple.com/us/reviews/id282154359</td>\n      <td>5.2</td>\n      <td>5</td>\n      <td>Love good notes 5, however still waiting on th...</td>\n      <td>0</td>\n    </tr>\n  </tbody>\n</table>\n<p>500 rows × 8 columns</p>\n</div>"
     },
     "metadata": {},
     "output_type": "execute_result",
     "execution_count": 26
    }
   ],
   "source": [
    "import pandas as pd\n",
    "reviews = pd.read_csv(\"./reviews/reviews_2019_10_26.csv\")\n",
    "\n",
    "reviews"
   ],
   "metadata": {
    "collapsed": false,
    "pycharm": {
     "name": "#%%\n",
     "is_executing": false
    }
   }
  }
 ],
 "metadata": {
  "kernelspec": {
   "display_name": "Python 3",
   "language": "python",
   "name": "python3"
  },
  "language_info": {
   "codemirror_mode": {
    "name": "ipython",
    "version": 2
   },
   "file_extension": ".py",
   "mimetype": "text/x-python",
   "name": "python",
   "nbconvert_exporter": "python",
   "pygments_lexer": "ipython2",
   "version": "2.7.6"
  },
  "pycharm": {
   "stem_cell": {
    "cell_type": "raw",
    "source": [
     "\n"
    ],
    "metadata": {
     "collapsed": false
    }
   }
  }
 },
 "nbformat": 4,
 "nbformat_minor": 0
}